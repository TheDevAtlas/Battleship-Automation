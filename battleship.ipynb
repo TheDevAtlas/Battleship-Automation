{
 "cells": [
  {
   "cell_type": "markdown",
   "id": "f6c527b1",
   "metadata": {},
   "source": [
    "#### Starts Game"
   ]
  },
  {
   "cell_type": "code",
   "execution_count": 17,
   "id": "e598994e",
   "metadata": {},
   "outputs": [
    {
     "data": {
      "text/plain": [
       "<Popen: returncode: None args: ['C:\\\\Program Files\\\\BlueStacks_nxt\\\\HD-Playe...>"
      ]
     },
     "execution_count": 17,
     "metadata": {},
     "output_type": "execute_result"
    }
   ],
   "source": [
    "import subprocess\n",
    "\n",
    "subprocess.Popen([\n",
    "    r\"C:\\Program Files\\BlueStacks_nxt\\HD-Player.exe\",\n",
    "    \"--instance\", \"Pie64\",\n",
    "    \"--cmd\", \"launchApp\",\n",
    "    \"--package\", \"de.smuttlewerk.fleetbattle\",\n",
    "    \"--source\", \"desktop_shortcut\"\n",
    "])\n"
   ]
  },
  {
   "cell_type": "markdown",
   "id": "485a41a7",
   "metadata": {},
   "source": [
    "#### Wait For Main Menu To Load"
   ]
  },
  {
   "cell_type": "code",
   "execution_count": null,
   "id": "6547a3b6",
   "metadata": {},
   "outputs": [
    {
     "name": "stdout",
     "output_type": "stream",
     "text": [
      "Button found!\n",
      "Button clicked!\n"
     ]
    }
   ],
   "source": [
    "import cv2\n",
    "import numpy as np\n",
    "import pyautogui\n",
    "import time\n",
    "\n",
    "# Load your button image #\n",
    "button_image = cv2.imread('ScreenElements/Start Button.png', cv2.IMREAD_COLOR)\n",
    "\n",
    "while True:\n",
    "    # Take screenshot #\n",
    "    screenshot = pyautogui.screenshot()\n",
    "    screenshot = cv2.cvtColor(np.array(screenshot), cv2.COLOR_RGB2BGR)\n",
    "    \n",
    "    # Template matching #\n",
    "    result = cv2.matchTemplate(screenshot, button_image, cv2.TM_CCOEFF_NORMED)\n",
    "    min_val, max_val, min_loc, max_loc = cv2.minMaxLoc(result)\n",
    "    \n",
    "    # Check if button found (adjust threshold as needed) #\n",
    "    if max_val > 0.4:\n",
    "        print(\"Button found!\")\n",
    "        break\n",
    "    \n",
    "    # Wait 1 second before next check #\n",
    "    time.sleep(1)\n",
    "\n",
    "# Click Button #\n",
    "button_center_x = max_loc[0] + button_image.shape[1] // 2\n",
    "button_center_y = max_loc[1] + button_image.shape[0] // 2\n",
    "pyautogui.click(button_center_x, button_center_y)\n",
    "print(\"Button clicked!\")"
   ]
  }
 ],
 "metadata": {
  "kernelspec": {
   "display_name": "Python 3",
   "language": "python",
   "name": "python3"
  },
  "language_info": {
   "codemirror_mode": {
    "name": "ipython",
    "version": 3
   },
   "file_extension": ".py",
   "mimetype": "text/x-python",
   "name": "python",
   "nbconvert_exporter": "python",
   "pygments_lexer": "ipython3",
   "version": "3.11.9"
  }
 },
 "nbformat": 4,
 "nbformat_minor": 5
}
