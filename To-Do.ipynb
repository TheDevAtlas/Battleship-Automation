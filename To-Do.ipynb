{
 "cells": [
  {
   "cell_type": "markdown",
   "id": "9a32092a",
   "metadata": {},
   "source": [
    "# To Do List\n",
    "\n",
    "### Opponent Disconnected\n",
    "\n",
    "When the opponent disconnects we need to use OCR to track that and then kill the game so that we can move on\n",
    "- [ ] Get Screenshot of Disconnect Screen\n",
    "- [ ] When the OCR sees that screen, kill the script\n",
    "\n",
    "### Unclaimed Rewards\n",
    "\n",
    "On the home screen of the game, we might get rewards. If that is the case it will block us from starting a new game until we click that X button.\n",
    "- [ ] Get Screenshot of Button\n",
    "- [ ] When the OCR sees that button BEFORE we start the game, click it, otherwise it is the matchmaking screen"
   ]
  }
 ],
 "metadata": {
  "language_info": {
   "name": "python"
  }
 },
 "nbformat": 4,
 "nbformat_minor": 5
}
